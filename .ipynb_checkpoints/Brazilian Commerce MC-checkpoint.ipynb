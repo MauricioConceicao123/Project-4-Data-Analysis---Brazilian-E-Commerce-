{
 "cells": [
  {
   "cell_type": "code",
   "execution_count": 1,
   "id": "90c5b1db-2cf3-4a81-9cea-3a3ed008b6a5",
   "metadata": {},
   "outputs": [
    {
     "name": "stdout",
     "output_type": "stream",
     "text": [
      "Requirement already satisfied: mysqlclient in c:\\users\\35191\\anaconda3\\lib\\site-packages (2.1.1)\n",
      "Requirement already satisfied: mysql-connector-python in c:\\users\\35191\\anaconda3\\lib\\site-packages (8.0.32)\n",
      "Requirement already satisfied: protobuf<=3.20.3,>=3.11.0 in c:\\users\\35191\\anaconda3\\lib\\site-packages (from mysql-connector-python) (3.20.3)\n"
     ]
    }
   ],
   "source": [
    "!pip install mysqlclient\n",
    "!pip install mysql-connector-python"
   ]
  },
  {
   "cell_type": "code",
   "execution_count": 2,
   "id": "8c98f788-ff2b-46fa-98bb-8513607db8ed",
   "metadata": {},
   "outputs": [],
   "source": [
    "import pandas as pd\n",
    "import sqlalchemy as sql\n",
    "import matplotlib.pyplot as plt\n",
    "import numpy as np\n",
    "import mysql.connector"
   ]
  },
  {
   "cell_type": "code",
   "execution_count": 3,
   "id": "de6fa295-6c6e-4a1a-969e-c3cc1d49bc61",
   "metadata": {},
   "outputs": [],
   "source": [
    "connection = mysql.connector.connect(user = 'root', password = 'password', host = '127.0.0.1', port = '3306', database = 'brazil_commerce_project')"
   ]
  },
  {
   "cell_type": "code",
   "execution_count": 4,
   "id": "9bac39b2-790c-4529-87f7-b7f8ebb618e4",
   "metadata": {},
   "outputs": [],
   "source": [
    "query_orders = \"SELECT*FROM orders\""
   ]
  },
  {
   "cell_type": "code",
   "execution_count": 5,
   "id": "f2c4eb87-262f-438c-9f75-2b8dfe1bb301",
   "metadata": {},
   "outputs": [
    {
     "name": "stderr",
     "output_type": "stream",
     "text": [
      "C:\\Users\\35191\\anaconda3\\lib\\site-packages\\pandas\\io\\sql.py:762: UserWarning: pandas only support SQLAlchemy connectable(engine/connection) ordatabase string URI or sqlite3 DBAPI2 connectionother DBAPI2 objects are not tested, please consider using SQLAlchemy\n",
      "  warnings.warn(\n"
     ]
    }
   ],
   "source": [
    "df_orders = pd.read_sql_query(query_orders,connection)"
   ]
  },
  {
   "cell_type": "code",
   "execution_count": 6,
   "id": "31e949d4-42e8-4449-a4cd-0aec39e08cec",
   "metadata": {},
   "outputs": [
    {
     "data": {
      "text/html": [
       "<div>\n",
       "<style scoped>\n",
       "    .dataframe tbody tr th:only-of-type {\n",
       "        vertical-align: middle;\n",
       "    }\n",
       "\n",
       "    .dataframe tbody tr th {\n",
       "        vertical-align: top;\n",
       "    }\n",
       "\n",
       "    .dataframe thead th {\n",
       "        text-align: right;\n",
       "    }\n",
       "</style>\n",
       "<table border=\"1\" class=\"dataframe\">\n",
       "  <thead>\n",
       "    <tr style=\"text-align: right;\">\n",
       "      <th></th>\n",
       "      <th>order_id</th>\n",
       "      <th>customer_id</th>\n",
       "      <th>order_status</th>\n",
       "      <th>order_purchase_timestamp</th>\n",
       "      <th>order_approved_at</th>\n",
       "      <th>order_delivered_carrier_date</th>\n",
       "      <th>order_delivered_customer_date</th>\n",
       "      <th>order_estimated_delivery_date</th>\n",
       "    </tr>\n",
       "  </thead>\n",
       "  <tbody>\n",
       "    <tr>\n",
       "      <th>0</th>\n",
       "      <td>00010242fe8c5a6d1ba2dd792cb16214</td>\n",
       "      <td>3ce436f183e68e07877b285a838db11a</td>\n",
       "      <td>delivered</td>\n",
       "      <td>2017-09-13 08:59:00</td>\n",
       "      <td>2017-09-13 09:45:00</td>\n",
       "      <td>2017-09-19 18:34:00</td>\n",
       "      <td>2017-09-20 23:43:00</td>\n",
       "      <td>2017-09-29</td>\n",
       "    </tr>\n",
       "    <tr>\n",
       "      <th>1</th>\n",
       "      <td>00018f77f2f0320c557190d7a144bdd3</td>\n",
       "      <td>f6dd3ec061db4e3987629fe6b26e5cce</td>\n",
       "      <td>delivered</td>\n",
       "      <td>2017-04-26 10:53:00</td>\n",
       "      <td>2017-04-26 11:05:00</td>\n",
       "      <td>2017-05-04 14:35:00</td>\n",
       "      <td>2017-05-12 16:04:00</td>\n",
       "      <td>2017-05-15</td>\n",
       "    </tr>\n",
       "    <tr>\n",
       "      <th>2</th>\n",
       "      <td>000229ec398224ef6ca0657da4fc703e</td>\n",
       "      <td>6489ae5e4333f3693df5ad4372dab6d3</td>\n",
       "      <td>delivered</td>\n",
       "      <td>2018-01-14 14:33:00</td>\n",
       "      <td>2018-01-14 14:48:00</td>\n",
       "      <td>2018-01-16 12:36:00</td>\n",
       "      <td>2018-01-22 13:19:00</td>\n",
       "      <td>2018-02-05</td>\n",
       "    </tr>\n",
       "    <tr>\n",
       "      <th>3</th>\n",
       "      <td>00024acbcdf0a6daa1e931b038114c75</td>\n",
       "      <td>d4eb9395c8c0431ee92fce09860c5a06</td>\n",
       "      <td>delivered</td>\n",
       "      <td>2018-08-08 10:00:00</td>\n",
       "      <td>2018-08-08 10:10:00</td>\n",
       "      <td>2018-08-10 13:28:00</td>\n",
       "      <td>2018-08-14 13:32:00</td>\n",
       "      <td>2018-08-20</td>\n",
       "    </tr>\n",
       "    <tr>\n",
       "      <th>4</th>\n",
       "      <td>00042b26cf59d7ce69dfabb4e55b4fd9</td>\n",
       "      <td>58dbd0b2d70206bf40e62cd34e84d795</td>\n",
       "      <td>delivered</td>\n",
       "      <td>2017-02-04 13:57:00</td>\n",
       "      <td>2017-02-04 14:10:00</td>\n",
       "      <td>2017-02-16 09:46:00</td>\n",
       "      <td>2017-03-01 16:42:00</td>\n",
       "      <td>2017-03-17</td>\n",
       "    </tr>\n",
       "    <tr>\n",
       "      <th>...</th>\n",
       "      <td>...</td>\n",
       "      <td>...</td>\n",
       "      <td>...</td>\n",
       "      <td>...</td>\n",
       "      <td>...</td>\n",
       "      <td>...</td>\n",
       "      <td>...</td>\n",
       "      <td>...</td>\n",
       "    </tr>\n",
       "    <tr>\n",
       "      <th>96456</th>\n",
       "      <td>fffc94f6ce00a00581880bf54a75a037</td>\n",
       "      <td>b51593916b4b8e0d6f66f2ae24f2673d</td>\n",
       "      <td>delivered</td>\n",
       "      <td>2018-04-23 13:57:00</td>\n",
       "      <td>2018-04-25 04:11:00</td>\n",
       "      <td>2018-04-25 12:09:00</td>\n",
       "      <td>2018-05-10 22:56:00</td>\n",
       "      <td>2018-05-18</td>\n",
       "    </tr>\n",
       "    <tr>\n",
       "      <th>96457</th>\n",
       "      <td>fffcd46ef2263f404302a634eb57f7eb</td>\n",
       "      <td>84c5d4fbaf120aae381fad077416eaa0</td>\n",
       "      <td>delivered</td>\n",
       "      <td>2018-07-14 10:26:00</td>\n",
       "      <td>2018-07-17 04:31:00</td>\n",
       "      <td>2018-07-17 08:05:00</td>\n",
       "      <td>2018-07-23 20:31:00</td>\n",
       "      <td>2018-08-01</td>\n",
       "    </tr>\n",
       "    <tr>\n",
       "      <th>96458</th>\n",
       "      <td>fffce4705a9662cd70adb13d4a31832d</td>\n",
       "      <td>29309aa813182aaddc9b259e31b870e6</td>\n",
       "      <td>delivered</td>\n",
       "      <td>2017-10-23 17:07:00</td>\n",
       "      <td>2017-10-24 17:14:00</td>\n",
       "      <td>2017-10-26 15:13:00</td>\n",
       "      <td>2017-10-28 12:22:00</td>\n",
       "      <td>2017-11-10</td>\n",
       "    </tr>\n",
       "    <tr>\n",
       "      <th>96459</th>\n",
       "      <td>fffe18544ffabc95dfada21779c9644f</td>\n",
       "      <td>b5e6afd5a41800fdf401e0272ca74655</td>\n",
       "      <td>delivered</td>\n",
       "      <td>2017-08-14 23:02:00</td>\n",
       "      <td>2017-08-15 00:04:00</td>\n",
       "      <td>2017-08-15 19:02:00</td>\n",
       "      <td>2017-08-16 21:59:00</td>\n",
       "      <td>2017-08-25</td>\n",
       "    </tr>\n",
       "    <tr>\n",
       "      <th>96460</th>\n",
       "      <td>fffe41c64501cc87c801fd61db3f6244</td>\n",
       "      <td>96d649da0cc4ff33bb408b199d4c7dcf</td>\n",
       "      <td>delivered</td>\n",
       "      <td>2018-06-09 17:00:00</td>\n",
       "      <td>2018-06-09 17:10:00</td>\n",
       "      <td>2018-06-11 14:11:00</td>\n",
       "      <td>2018-06-14 17:56:00</td>\n",
       "      <td>2018-06-28</td>\n",
       "    </tr>\n",
       "  </tbody>\n",
       "</table>\n",
       "<p>96461 rows × 8 columns</p>\n",
       "</div>"
      ],
      "text/plain": [
       "                               order_id                       customer_id  \\\n",
       "0      00010242fe8c5a6d1ba2dd792cb16214  3ce436f183e68e07877b285a838db11a   \n",
       "1      00018f77f2f0320c557190d7a144bdd3  f6dd3ec061db4e3987629fe6b26e5cce   \n",
       "2      000229ec398224ef6ca0657da4fc703e  6489ae5e4333f3693df5ad4372dab6d3   \n",
       "3      00024acbcdf0a6daa1e931b038114c75  d4eb9395c8c0431ee92fce09860c5a06   \n",
       "4      00042b26cf59d7ce69dfabb4e55b4fd9  58dbd0b2d70206bf40e62cd34e84d795   \n",
       "...                                 ...                               ...   \n",
       "96456  fffc94f6ce00a00581880bf54a75a037  b51593916b4b8e0d6f66f2ae24f2673d   \n",
       "96457  fffcd46ef2263f404302a634eb57f7eb  84c5d4fbaf120aae381fad077416eaa0   \n",
       "96458  fffce4705a9662cd70adb13d4a31832d  29309aa813182aaddc9b259e31b870e6   \n",
       "96459  fffe18544ffabc95dfada21779c9644f  b5e6afd5a41800fdf401e0272ca74655   \n",
       "96460  fffe41c64501cc87c801fd61db3f6244  96d649da0cc4ff33bb408b199d4c7dcf   \n",
       "\n",
       "      order_status order_purchase_timestamp   order_approved_at  \\\n",
       "0        delivered      2017-09-13 08:59:00 2017-09-13 09:45:00   \n",
       "1        delivered      2017-04-26 10:53:00 2017-04-26 11:05:00   \n",
       "2        delivered      2018-01-14 14:33:00 2018-01-14 14:48:00   \n",
       "3        delivered      2018-08-08 10:00:00 2018-08-08 10:10:00   \n",
       "4        delivered      2017-02-04 13:57:00 2017-02-04 14:10:00   \n",
       "...            ...                      ...                 ...   \n",
       "96456    delivered      2018-04-23 13:57:00 2018-04-25 04:11:00   \n",
       "96457    delivered      2018-07-14 10:26:00 2018-07-17 04:31:00   \n",
       "96458    delivered      2017-10-23 17:07:00 2017-10-24 17:14:00   \n",
       "96459    delivered      2017-08-14 23:02:00 2017-08-15 00:04:00   \n",
       "96460    delivered      2018-06-09 17:00:00 2018-06-09 17:10:00   \n",
       "\n",
       "      order_delivered_carrier_date order_delivered_customer_date  \\\n",
       "0              2017-09-19 18:34:00           2017-09-20 23:43:00   \n",
       "1              2017-05-04 14:35:00           2017-05-12 16:04:00   \n",
       "2              2018-01-16 12:36:00           2018-01-22 13:19:00   \n",
       "3              2018-08-10 13:28:00           2018-08-14 13:32:00   \n",
       "4              2017-02-16 09:46:00           2017-03-01 16:42:00   \n",
       "...                            ...                           ...   \n",
       "96456          2018-04-25 12:09:00           2018-05-10 22:56:00   \n",
       "96457          2018-07-17 08:05:00           2018-07-23 20:31:00   \n",
       "96458          2017-10-26 15:13:00           2017-10-28 12:22:00   \n",
       "96459          2017-08-15 19:02:00           2017-08-16 21:59:00   \n",
       "96460          2018-06-11 14:11:00           2018-06-14 17:56:00   \n",
       "\n",
       "      order_estimated_delivery_date  \n",
       "0                        2017-09-29  \n",
       "1                        2017-05-15  \n",
       "2                        2018-02-05  \n",
       "3                        2018-08-20  \n",
       "4                        2017-03-17  \n",
       "...                             ...  \n",
       "96456                    2018-05-18  \n",
       "96457                    2018-08-01  \n",
       "96458                    2017-11-10  \n",
       "96459                    2017-08-25  \n",
       "96460                    2018-06-28  \n",
       "\n",
       "[96461 rows x 8 columns]"
      ]
     },
     "execution_count": 6,
     "metadata": {},
     "output_type": "execute_result"
    }
   ],
   "source": [
    "df_orders"
   ]
  },
  {
   "cell_type": "code",
   "execution_count": 7,
   "id": "92a6b6ac-8376-4faa-a1b1-2b09096b4810",
   "metadata": {},
   "outputs": [],
   "source": [
    "#Here we shall make the necessary calculations in order to achieve the order completion rate"
   ]
  },
  {
   "cell_type": "code",
   "execution_count": 8,
   "id": "8089bf40-ec03-4936-b9e1-968c83daf688",
   "metadata": {},
   "outputs": [
    {
     "name": "stdout",
     "output_type": "stream",
     "text": [
      "delivered    96455\n",
      "canceled         6\n",
      "Name: order_status, dtype: int64\n"
     ]
    }
   ],
   "source": [
    "order_status_count = df_orders['order_status'].value_counts()\n",
    "print (order_status_count)"
   ]
  },
  {
   "cell_type": "code",
   "execution_count": 9,
   "id": "7d19472f-ef01-4c1a-a391-aad557748c0a",
   "metadata": {},
   "outputs": [
    {
     "name": "stdout",
     "output_type": "stream",
     "text": [
      "['delivered' 'canceled']\n"
     ]
    }
   ],
   "source": [
    "order_status_list = df_orders['order_status'].unique()\n",
    "print(order_status_list)"
   ]
  },
  {
   "cell_type": "code",
   "execution_count": 28,
   "id": "43f9a3d5-2c6a-40e3-aae5-367d9699e2c8",
   "metadata": {},
   "outputs": [
    {
     "data": {
      "image/png": "[encoded data removed]",
      "text/plain": [
       "<Figure size 640x480 with 1 Axes>"
      ]
     },
     "metadata": {},
     "output_type": "display_data"
    }
   ],
   "source": [
    "order_status_count = df_orders['order_status'].value_counts()\n",
    "fig, ax = plt.subplots(1,1)\n",
    "order_status_count.plot(kind='bar', ax=ax)\n",
    "ax.set_title('Order Completion Rate')\n",
    "ax.set_xlabel('')\n",
    "ax.set_ylabel('Frequency')\n",
    "plt.show()"
   ]
  },
  {
   "cell_type": "code",
   "execution_count": 13,
   "id": "2ec8d74d-73e5-436c-aa8e-80878aa6a1aa",
   "metadata": {},
   "outputs": [],
   "source": [
    "query_orderpayments = \"SELECT*FROM order_payments\""
   ]
  },
  {
   "cell_type": "code",
   "execution_count": 14,
   "id": "b5a6ceba-9848-4b29-a756-01585260dccb",
   "metadata": {},
   "outputs": [
    {
     "name": "stderr",
     "output_type": "stream",
     "text": [
      "C:\\Users\\35191\\anaconda3\\lib\\site-packages\\pandas\\io\\sql.py:762: UserWarning: pandas only support SQLAlchemy connectable(engine/connection) ordatabase string URI or sqlite3 DBAPI2 connectionother DBAPI2 objects are not tested, please consider using SQLAlchemy\n",
      "  warnings.warn(\n"
     ]
    }
   ],
   "source": [
    "df_orderpayments = pd.read_sql_query(query_orderpayments,connection)"
   ]
  },
  {
   "cell_type": "code",
   "execution_count": 15,
   "id": "30f22598-ff33-4cc9-a259-1d53fe324ef6",
   "metadata": {},
   "outputs": [
    {
     "data": {
      "text/html": [
       "<div>\n",
       "<style scoped>\n",
       "    .dataframe tbody tr th:only-of-type {\n",
       "        vertical-align: middle;\n",
       "    }\n",
       "\n",
       "    .dataframe tbody tr th {\n",
       "        vertical-align: top;\n",
       "    }\n",
       "\n",
       "    .dataframe thead th {\n",
       "        text-align: right;\n",
       "    }\n",
       "</style>\n",
       "<table border=\"1\" class=\"dataframe\">\n",
       "  <thead>\n",
       "    <tr style=\"text-align: right;\">\n",
       "      <th></th>\n",
       "      <th>order_id</th>\n",
       "      <th>payment_sequential</th>\n",
       "      <th>payment_type</th>\n",
       "      <th>payment_installments</th>\n",
       "      <th>payment_value</th>\n",
       "    </tr>\n",
       "  </thead>\n",
       "  <tbody>\n",
       "    <tr>\n",
       "      <th>0</th>\n",
       "      <td>00010242fe8c5a6d1ba2dd792cb16214</td>\n",
       "      <td>1</td>\n",
       "      <td>credit_card</td>\n",
       "      <td>2</td>\n",
       "      <td>72.19</td>\n",
       "    </tr>\n",
       "    <tr>\n",
       "      <th>1</th>\n",
       "      <td>00018f77f2f0320c557190d7a144bdd3</td>\n",
       "      <td>1</td>\n",
       "      <td>credit_card</td>\n",
       "      <td>3</td>\n",
       "      <td>259.83</td>\n",
       "    </tr>\n",
       "    <tr>\n",
       "      <th>2</th>\n",
       "      <td>000229ec398224ef6ca0657da4fc703e</td>\n",
       "      <td>1</td>\n",
       "      <td>credit_card</td>\n",
       "      <td>5</td>\n",
       "      <td>216.87</td>\n",
       "    </tr>\n",
       "    <tr>\n",
       "      <th>3</th>\n",
       "      <td>00024acbcdf0a6daa1e931b038114c75</td>\n",
       "      <td>1</td>\n",
       "      <td>credit_card</td>\n",
       "      <td>2</td>\n",
       "      <td>25.78</td>\n",
       "    </tr>\n",
       "    <tr>\n",
       "      <th>4</th>\n",
       "      <td>00042b26cf59d7ce69dfabb4e55b4fd9</td>\n",
       "      <td>1</td>\n",
       "      <td>credit_card</td>\n",
       "      <td>3</td>\n",
       "      <td>218.04</td>\n",
       "    </tr>\n",
       "    <tr>\n",
       "      <th>...</th>\n",
       "      <td>...</td>\n",
       "      <td>...</td>\n",
       "      <td>...</td>\n",
       "      <td>...</td>\n",
       "      <td>...</td>\n",
       "    </tr>\n",
       "    <tr>\n",
       "      <th>99435</th>\n",
       "      <td>fffc94f6ce00a00581880bf54a75a037</td>\n",
       "      <td>1</td>\n",
       "      <td>boleto</td>\n",
       "      <td>1</td>\n",
       "      <td>343.40</td>\n",
       "    </tr>\n",
       "    <tr>\n",
       "      <th>99436</th>\n",
       "      <td>fffcd46ef2263f404302a634eb57f7eb</td>\n",
       "      <td>1</td>\n",
       "      <td>boleto</td>\n",
       "      <td>1</td>\n",
       "      <td>386.53</td>\n",
       "    </tr>\n",
       "    <tr>\n",
       "      <th>99437</th>\n",
       "      <td>fffce4705a9662cd70adb13d4a31832d</td>\n",
       "      <td>1</td>\n",
       "      <td>credit_card</td>\n",
       "      <td>3</td>\n",
       "      <td>116.85</td>\n",
       "    </tr>\n",
       "    <tr>\n",
       "      <th>99438</th>\n",
       "      <td>fffe18544ffabc95dfada21779c9644f</td>\n",
       "      <td>1</td>\n",
       "      <td>credit_card</td>\n",
       "      <td>3</td>\n",
       "      <td>64.71</td>\n",
       "    </tr>\n",
       "    <tr>\n",
       "      <th>99439</th>\n",
       "      <td>fffe41c64501cc87c801fd61db3f6244</td>\n",
       "      <td>1</td>\n",
       "      <td>credit_card</td>\n",
       "      <td>1</td>\n",
       "      <td>55.79</td>\n",
       "    </tr>\n",
       "  </tbody>\n",
       "</table>\n",
       "<p>99440 rows × 5 columns</p>\n",
       "</div>"
      ],
      "text/plain": [
       "                               order_id  payment_sequential payment_type  \\\n",
       "0      00010242fe8c5a6d1ba2dd792cb16214                   1  credit_card   \n",
       "1      00018f77f2f0320c557190d7a144bdd3                   1  credit_card   \n",
       "2      000229ec398224ef6ca0657da4fc703e                   1  credit_card   \n",
       "3      00024acbcdf0a6daa1e931b038114c75                   1  credit_card   \n",
       "4      00042b26cf59d7ce69dfabb4e55b4fd9                   1  credit_card   \n",
       "...                                 ...                 ...          ...   \n",
       "99435  fffc94f6ce00a00581880bf54a75a037                   1       boleto   \n",
       "99436  fffcd46ef2263f404302a634eb57f7eb                   1       boleto   \n",
       "99437  fffce4705a9662cd70adb13d4a31832d                   1  credit_card   \n",
       "99438  fffe18544ffabc95dfada21779c9644f                   1  credit_card   \n",
       "99439  fffe41c64501cc87c801fd61db3f6244                   1  credit_card   \n",
       "\n",
       "       payment_installments  payment_value  \n",
       "0                         2          72.19  \n",
       "1                         3         259.83  \n",
       "2                         5         216.87  \n",
       "3                         2          25.78  \n",
       "4                         3         218.04  \n",
       "...                     ...            ...  \n",
       "99435                     1         343.40  \n",
       "99436                     1         386.53  \n",
       "99437                     3         116.85  \n",
       "99438                     3          64.71  \n",
       "99439                     1          55.79  \n",
       "\n",
       "[99440 rows x 5 columns]"
      ]
     },
     "execution_count": 15,
     "metadata": {},
     "output_type": "execute_result"
    }
   ],
   "source": [
    "df_orderpayments"
   ]
  },
  {
   "cell_type": "code",
   "execution_count": 16,
   "id": "9b7e02fa-b8fa-4447-b024-80a92feb9234",
   "metadata": {},
   "outputs": [],
   "source": [
    "#Here are the different payment types used by the clients of the company"
   ]
  },
  {
   "cell_type": "code",
   "execution_count": 17,
   "id": "6b1fd0ac-78ef-416f-aff6-c1c905c81554",
   "metadata": {},
   "outputs": [
    {
     "name": "stdout",
     "output_type": "stream",
     "text": [
      "credit_card    75387\n",
      "boleto         19784\n",
      "voucher         2739\n",
      "debit_card      1527\n",
      "not_defined        3\n",
      "Name: payment_type, dtype: int64\n"
     ]
    }
   ],
   "source": [
    "order_payment_type = df_orderpayments['payment_type'].value_counts()\n",
    "print (order_payment_type)"
   ]
  },
  {
   "cell_type": "code",
   "execution_count": 18,
   "id": "8a132bac-4c69-4c99-83d0-98f0075807a4",
   "metadata": {},
   "outputs": [],
   "source": [
    "#boleto --> bill or invoice that can be paid at banks and other places. Alternative to credit cards very popular in Brazil"
   ]
  },
  {
   "cell_type": "code",
   "execution_count": null,
   "id": "907fc439-4b8d-441e-8c29-3eb9f867b245",
   "metadata": {},
   "outputs": [],
   "source": [
    "# Here we shall create the graphs regarding the Payment Type"
   ]
  },
  {
   "cell_type": "code",
   "execution_count": 21,
   "id": "3370bf46-5da8-4762-ae63-dd09811a6f52",
   "metadata": {},
   "outputs": [
    {
     "data": {
      "image/png": "[encoded data removed]",
      "text/plain": [
       "<Figure size 640x480 with 1 Axes>"
      ]
     },
     "metadata": {},
     "output_type": "display_data"
    }
   ],
   "source": [
    "payment_counts = df_orderpayments['payment_type'].value_counts()\n",
    "fig, ax = plt.subplots(1,1)\n",
    "payment_counts.plot(kind='bar', ax=ax)\n",
    "ax.set_title('Payment Type Frequencies')\n",
    "ax.set_xlabel('Payment Type')\n",
    "ax.set_ylabel('Frequency')\n",
    "plt.show()"
   ]
  },
  {
   "cell_type": "code",
   "execution_count": 26,
   "id": "3d28f955-9514-448a-b975-90034cecf4e6",
   "metadata": {},
   "outputs": [
    {
     "data": {
      "image/png": "[encoded data removed]",
      "text/plain": [
       "<Figure size 640x480 with 1 Axes>"
      ]
     },
     "metadata": {},
     "output_type": "display_data"
    }
   ],
   "source": [
    "payment_counts = df_orderpayments['payment_type'].value_counts()\n",
    "payment_percentages = payment_counts / payment_counts.sum() * 100\n",
    "\n",
    "payment_percentages = payment_percentages.loc[['credit_card', 'boleto', 'voucher']]\n",
    "labels = [label if label in ['credit_card', 'boleto', 'voucher'] else '' for label in payment_percentages.index]\n",
    "\n",
    "fig, ax = plt.subplots(1,1)\n",
    "ax.pie(payment_percentages, labels=labels, autopct='%1.1f%%')\n",
    "ax.set_title('Payment Type Percentages')\n",
    "\n",
    "plt.show()"
   ]
  },
  {
   "cell_type": "code",
   "execution_count": null,
   "id": "49fb8e2e-8508-4a1e-ba07-3c9bf0c32ea5",
   "metadata": {},
   "outputs": [],
   "source": []
  }
 ],
 "metadata": {
  "kernelspec": {
   "display_name": "Python 3 (ipykernel)",
   "language": "python",
   "name": "python3"
  },
  "language_info": {
   "codemirror_mode": {
    "name": "ipython",
    "version": 3
   },
   "file_extension": ".py",
   "mimetype": "text/x-python",
   "name": "python",
   "nbconvert_exporter": "python",
   "pygments_lexer": "ipython3",
   "version": "3.9.13"
  }
 },
 "nbformat": 4,
 "nbformat_minor": 5
}
